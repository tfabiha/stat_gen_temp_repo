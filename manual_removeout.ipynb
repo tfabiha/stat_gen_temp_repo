{
 "cells": [
  {
   "cell_type": "code",
   "execution_count": 1,
   "id": "52c24b41-cf7a-4a0e-b2b2-06f05ad6c16a",
   "metadata": {},
   "outputs": [],
   "source": [
    "import numpy as np\n",
    "import pandas as pd"
   ]
  },
  {
   "cell_type": "markdown",
   "id": "12c52a0f-e19e-46c6-8f91-8ba28e6b5ee1",
   "metadata": {},
   "source": [
    "## Remove outliers from the original phenotype file"
   ]
  },
  {
   "cell_type": "code",
   "execution_count": 2,
   "id": "e86d4f99-f0eb-4e5a-bdc5-d50989134cff",
   "metadata": {},
   "outputs": [],
   "source": [
    "outliers = \"/gpfs/gibbs/pi/dewan/data/UKBiobank/results/070921_pca_genotype_array/white_expanded_07_09_21_genoarray_projected/030821_ukb42495_exomed_white_189010ind.pheno.white_expanded_07_09_21_genoarray_projected.pca.projected.outliers\"\n",
    "\n",
    "org_actual_pheno = \"/gpfs/gibbs/pi/dewan/data/UKBiobank/phenotype_files/pleiotropy_R01/ukb43978_OCT2020/dc2325_phenotypes/030821_ukb42495_exomed_white_189010ind.pheno.new\"\n",
    "new_action_pheno = \"~/hearing_pca/030821_ukb42495_exomed_white_189010ind_removed_outliers.pheno.new\""
   ]
  },
  {
   "cell_type": "code",
   "execution_count": 3,
   "id": "2d0d170b-8efa-4e95-9f0b-683f35037361",
   "metadata": {},
   "outputs": [
    {
     "data": {
      "text/html": [
       "<div>\n",
       "<style scoped>\n",
       "    .dataframe tbody tr th:only-of-type {\n",
       "        vertical-align: middle;\n",
       "    }\n",
       "\n",
       "    .dataframe tbody tr th {\n",
       "        vertical-align: top;\n",
       "    }\n",
       "\n",
       "    .dataframe thead th {\n",
       "        text-align: right;\n",
       "    }\n",
       "</style>\n",
       "<table border=\"1\" class=\"dataframe\">\n",
       "  <thead>\n",
       "    <tr style=\"text-align: right;\">\n",
       "      <th></th>\n",
       "      <th>1008606</th>\n",
       "      <th>1008606.1</th>\n",
       "    </tr>\n",
       "  </thead>\n",
       "  <tbody>\n",
       "    <tr>\n",
       "      <th>0</th>\n",
       "      <td>1010412</td>\n",
       "      <td>1010412</td>\n",
       "    </tr>\n",
       "    <tr>\n",
       "      <th>1</th>\n",
       "      <td>1045757</td>\n",
       "      <td>1045757</td>\n",
       "    </tr>\n",
       "    <tr>\n",
       "      <th>2</th>\n",
       "      <td>1057699</td>\n",
       "      <td>1057699</td>\n",
       "    </tr>\n",
       "    <tr>\n",
       "      <th>3</th>\n",
       "      <td>1069457</td>\n",
       "      <td>1069457</td>\n",
       "    </tr>\n",
       "    <tr>\n",
       "      <th>4</th>\n",
       "      <td>1071240</td>\n",
       "      <td>1071240</td>\n",
       "    </tr>\n",
       "    <tr>\n",
       "      <th>...</th>\n",
       "      <td>...</td>\n",
       "      <td>...</td>\n",
       "    </tr>\n",
       "    <tr>\n",
       "      <th>562</th>\n",
       "      <td>4773865</td>\n",
       "      <td>4773865</td>\n",
       "    </tr>\n",
       "    <tr>\n",
       "      <th>563</th>\n",
       "      <td>5109700</td>\n",
       "      <td>5109700</td>\n",
       "    </tr>\n",
       "    <tr>\n",
       "      <th>564</th>\n",
       "      <td>5637210</td>\n",
       "      <td>5637210</td>\n",
       "    </tr>\n",
       "    <tr>\n",
       "      <th>565</th>\n",
       "      <td>5748329</td>\n",
       "      <td>5748329</td>\n",
       "    </tr>\n",
       "    <tr>\n",
       "      <th>566</th>\n",
       "      <td>5809112</td>\n",
       "      <td>5809112</td>\n",
       "    </tr>\n",
       "  </tbody>\n",
       "</table>\n",
       "<p>567 rows × 2 columns</p>\n",
       "</div>"
      ],
      "text/plain": [
       "     1008606  1008606.1\n",
       "0    1010412    1010412\n",
       "1    1045757    1045757\n",
       "2    1057699    1057699\n",
       "3    1069457    1069457\n",
       "4    1071240    1071240\n",
       "..       ...        ...\n",
       "562  4773865    4773865\n",
       "563  5109700    5109700\n",
       "564  5637210    5637210\n",
       "565  5748329    5748329\n",
       "566  5809112    5809112\n",
       "\n",
       "[567 rows x 2 columns]"
      ]
     },
     "execution_count": 3,
     "metadata": {},
     "output_type": "execute_result"
    }
   ],
   "source": [
    "out = pd.read_csv(outliers, delimiter=\"\\t\")\n",
    "out"
   ]
  },
  {
   "cell_type": "code",
   "execution_count": 4,
   "id": "2673dc12-af03-4e9d-aa95-73fec8c6d14e",
   "metadata": {},
   "outputs": [],
   "source": [
    "def dont_keep_in_list(row, li):\n",
    "    if row[\"FID\"] in li:\n",
    "        return row.index[0]\n",
    "    else:\n",
    "        return -1"
   ]
  },
  {
   "cell_type": "code",
   "execution_count": 5,
   "id": "de16a274-7c3d-4b95-88d2-cfd42aa7e347",
   "metadata": {},
   "outputs": [
    {
     "name": "stdout",
     "output_type": "stream",
     "text": [
      "original pheno shape (189010, 4)\n",
      "new pheno shape (188443, 4)\n"
     ]
    }
   ],
   "source": [
    "phen = pd.read_csv(org_actual_pheno, delimiter=\"\\t\")\n",
    "\n",
    "print(\"original pheno shape\", phen.shape)\n",
    "\n",
    "not_outlier = lambda row: dont_keep_in_list(row, out[\"1008606\"].to_list())\n",
    "i = phen.apply(not_outlier, axis=1)\n",
    "all_pheno_no_outlier = phen.drop(i[i != -1].index)\n",
    "\n",
    "print(\"new pheno shape\", all_pheno_no_outlier.shape)"
   ]
  },
  {
   "cell_type": "code",
   "execution_count": 6,
   "id": "e0cbf42f-e009-492e-a0cf-62c17bff9287",
   "metadata": {},
   "outputs": [],
   "source": [
    "all_pheno_no_outlier.to_csv(new_action_pheno, sep=\"\\t\", index=False)"
   ]
  },
  {
   "cell_type": "code",
   "execution_count": 7,
   "id": "f50d2ada-334f-4fa0-acdc-05577b25dc6f",
   "metadata": {},
   "outputs": [
    {
     "data": {
      "text/html": [
       "<div>\n",
       "<style scoped>\n",
       "    .dataframe tbody tr th:only-of-type {\n",
       "        vertical-align: middle;\n",
       "    }\n",
       "\n",
       "    .dataframe tbody tr th {\n",
       "        vertical-align: top;\n",
       "    }\n",
       "\n",
       "    .dataframe thead th {\n",
       "        text-align: right;\n",
       "    }\n",
       "</style>\n",
       "<table border=\"1\" class=\"dataframe\">\n",
       "  <thead>\n",
       "    <tr style=\"text-align: right;\">\n",
       "      <th></th>\n",
       "      <th>FID</th>\n",
       "      <th>IID</th>\n",
       "      <th>pop</th>\n",
       "      <th>super_pop</th>\n",
       "    </tr>\n",
       "  </thead>\n",
       "  <tbody>\n",
       "    <tr>\n",
       "      <th>0</th>\n",
       "      <td>1000019</td>\n",
       "      <td>1000019</td>\n",
       "      <td>British</td>\n",
       "      <td>extended_white</td>\n",
       "    </tr>\n",
       "    <tr>\n",
       "      <th>1</th>\n",
       "      <td>1000035</td>\n",
       "      <td>1000035</td>\n",
       "      <td>British</td>\n",
       "      <td>extended_white</td>\n",
       "    </tr>\n",
       "    <tr>\n",
       "      <th>2</th>\n",
       "      <td>1000078</td>\n",
       "      <td>1000078</td>\n",
       "      <td>British</td>\n",
       "      <td>extended_white</td>\n",
       "    </tr>\n",
       "    <tr>\n",
       "      <th>3</th>\n",
       "      <td>1000081</td>\n",
       "      <td>1000081</td>\n",
       "      <td>British</td>\n",
       "      <td>extended_white</td>\n",
       "    </tr>\n",
       "    <tr>\n",
       "      <th>4</th>\n",
       "      <td>1000198</td>\n",
       "      <td>1000198</td>\n",
       "      <td>British</td>\n",
       "      <td>extended_white</td>\n",
       "    </tr>\n",
       "    <tr>\n",
       "      <th>...</th>\n",
       "      <td>...</td>\n",
       "      <td>...</td>\n",
       "      <td>...</td>\n",
       "      <td>...</td>\n",
       "    </tr>\n",
       "    <tr>\n",
       "      <th>189005</th>\n",
       "      <td>6025295</td>\n",
       "      <td>6025295</td>\n",
       "      <td>British</td>\n",
       "      <td>extended_white</td>\n",
       "    </tr>\n",
       "    <tr>\n",
       "      <th>189006</th>\n",
       "      <td>6025319</td>\n",
       "      <td>6025319</td>\n",
       "      <td>British</td>\n",
       "      <td>extended_white</td>\n",
       "    </tr>\n",
       "    <tr>\n",
       "      <th>189007</th>\n",
       "      <td>6025346</td>\n",
       "      <td>6025346</td>\n",
       "      <td>British</td>\n",
       "      <td>extended_white</td>\n",
       "    </tr>\n",
       "    <tr>\n",
       "      <th>189008</th>\n",
       "      <td>6025363</td>\n",
       "      <td>6025363</td>\n",
       "      <td>British</td>\n",
       "      <td>extended_white</td>\n",
       "    </tr>\n",
       "    <tr>\n",
       "      <th>189009</th>\n",
       "      <td>6025411</td>\n",
       "      <td>6025411</td>\n",
       "      <td>British</td>\n",
       "      <td>extended_white</td>\n",
       "    </tr>\n",
       "  </tbody>\n",
       "</table>\n",
       "<p>188443 rows × 4 columns</p>\n",
       "</div>"
      ],
      "text/plain": [
       "            FID      IID      pop       super_pop\n",
       "0       1000019  1000019  British  extended_white\n",
       "1       1000035  1000035  British  extended_white\n",
       "2       1000078  1000078  British  extended_white\n",
       "3       1000081  1000081  British  extended_white\n",
       "4       1000198  1000198  British  extended_white\n",
       "...         ...      ...      ...             ...\n",
       "189005  6025295  6025295  British  extended_white\n",
       "189006  6025319  6025319  British  extended_white\n",
       "189007  6025346  6025346  British  extended_white\n",
       "189008  6025363  6025363  British  extended_white\n",
       "189009  6025411  6025411  British  extended_white\n",
       "\n",
       "[188443 rows x 4 columns]"
      ]
     },
     "execution_count": 7,
     "metadata": {},
     "output_type": "execute_result"
    }
   ],
   "source": [
    "all_pheno_no_outlier"
   ]
  },
  {
   "cell_type": "markdown",
   "id": "0dc6a9ae-279b-40d0-b726-a073111305cc",
   "metadata": {},
   "source": [
    "## Obtain the pca phenotype info for each of the four hearing aid phenos"
   ]
  },
  {
   "cell_type": "markdown",
   "id": "c980ee81-686a-45f7-9825-06b968abaee7",
   "metadata": {},
   "source": [
    "### f3393"
   ]
  },
  {
   "cell_type": "code",
   "execution_count": 8,
   "id": "94a0f0e2-3e35-4780-b08b-638533901235",
   "metadata": {},
   "outputs": [],
   "source": [
    "org_f3393_pheno = \"/gpfs/gibbs/pi/dewan/data/UKBiobank/phenotype_files/hearing_impairment/phenotypes_exome_data/010421_UKBB_Hearing_aid_f3393_128254ind_exomes\"\n",
    "new_f3393_pheno = \"~/hearing_pca/010421_UKBB_Hearing_aid_f3393_128254ind_exomes.pheno\""
   ]
  },
  {
   "cell_type": "code",
   "execution_count": 9,
   "id": "e798a717-a90b-4bec-8281-93c76dd6ca88",
   "metadata": {},
   "outputs": [
    {
     "name": "stdout",
     "output_type": "stream",
     "text": [
      "original all_pheno_no_outlier shape (188443, 4)\n",
      "f3393 shape (128254, 5)\n",
      "f3393 pca shape (128137, 4)\n"
     ]
    }
   ],
   "source": [
    "f3393 = pd.read_csv(org_f3393_pheno, delimiter=\" \")\n",
    "\n",
    "print(\"original all_pheno_no_outlier shape\", all_pheno_no_outlier.shape)\n",
    "print(\"f3393 shape\", f3393.shape)\n",
    "\n",
    "diff = set(all_pheno_no_outlier[\"FID\"].to_list()).difference(f3393[\"FID\"].to_list())\n",
    "not_outlier = lambda row: dont_keep_in_list(row, diff)\n",
    "\n",
    "i = all_pheno_no_outlier.apply(not_outlier, axis=1)\n",
    "f3393_pca = all_pheno_no_outlier.drop(i[i != -1].index)\n",
    "\n",
    "print(\"f3393 pca shape\", f3393_pca.shape)"
   ]
  },
  {
   "cell_type": "code",
   "execution_count": 10,
   "id": "b0c93a8c-1af1-4673-b137-bc77764848f8",
   "metadata": {},
   "outputs": [],
   "source": [
    "f3393_pca.to_csv(new_f3393_pheno, sep=\"\\t\", index=False)"
   ]
  },
  {
   "cell_type": "markdown",
   "id": "af18f010-354b-4a7a-9014-c43f8ab5403a",
   "metadata": {},
   "source": [
    "### f2247"
   ]
  },
  {
   "cell_type": "code",
   "execution_count": 11,
   "id": "475f6e5a-c52c-4cc5-8816-976fee8a17e4",
   "metadata": {},
   "outputs": [],
   "source": [
    "org_f2247_pheno = \"/gpfs/gibbs/pi/dewan/data/UKBiobank/phenotype_files/hearing_impairment/phenotypes_exome_data/010421_UKBB_Hearing_difficulty_f2247_171970ind_exomes\"\n",
    "new_f2247_pheno = \"~/hearing_pca/010421_UKBB_Hearing_difficulty_f2247_171970ind_exomes.pheno\""
   ]
  },
  {
   "cell_type": "code",
   "execution_count": 12,
   "id": "9fb9773c-3db3-402e-80ad-1d34e41d0c0d",
   "metadata": {},
   "outputs": [
    {
     "name": "stdout",
     "output_type": "stream",
     "text": [
      "original all_pheno_no_outlier shape (188443, 4)\n",
      "f2247 shape (171970, 5)\n",
      "f2247 pca shape (171821, 4)\n"
     ]
    }
   ],
   "source": [
    "f2247 = pd.read_csv(org_f2247_pheno, delimiter=\" \")\n",
    "\n",
    "print(\"original all_pheno_no_outlier shape\", all_pheno_no_outlier.shape)\n",
    "print(\"f2247 shape\", f2247.shape)\n",
    "\n",
    "diff = set(all_pheno_no_outlier[\"FID\"].to_list()).difference(f2247[\"FID\"].to_list())\n",
    "not_outlier = lambda row: dont_keep_in_list(row, diff)\n",
    "\n",
    "i = all_pheno_no_outlier.apply(not_outlier, axis=1)\n",
    "f2247_pca = all_pheno_no_outlier.drop(i[i != -1].index)\n",
    "\n",
    "print(\"f2247 pca shape\", f2247_pca.shape)"
   ]
  },
  {
   "cell_type": "code",
   "execution_count": 13,
   "id": "bdcd6874-d8e2-4853-85d5-36076fbc8534",
   "metadata": {},
   "outputs": [],
   "source": [
    "f2247_pca.to_csv(new_f2247_pheno, sep=\"\\t\", index=False)"
   ]
  },
  {
   "cell_type": "markdown",
   "id": "e2990d68-367a-4f11-8206-b780ac44d4b2",
   "metadata": {},
   "source": [
    "### f2257"
   ]
  },
  {
   "cell_type": "code",
   "execution_count": 14,
   "id": "72d9a442-21d3-4410-bd3d-0f0b0c7a332c",
   "metadata": {},
   "outputs": [],
   "source": [
    "org_f2257_pheno = \"/gpfs/gibbs/pi/dewan/data/UKBiobank/phenotype_files/hearing_impairment/phenotypes_exome_data/010421_UKBB_Hearing_background_noise_f2257_175531ind_exomes\"\n",
    "new_f2257_pheno = \"~/hearing_pca/010421_UKBB_Hearing_background_noise_f2257_175531ind_exomes.pheno\""
   ]
  },
  {
   "cell_type": "code",
   "execution_count": 15,
   "id": "329cbbf0-3d76-440f-b766-fc258560ae4d",
   "metadata": {},
   "outputs": [
    {
     "name": "stdout",
     "output_type": "stream",
     "text": [
      "original all_pheno_no_outlier shape (188443, 4)\n",
      "f2257 shape (175531, 5)\n",
      "f2257 pca shape (175381, 4)\n"
     ]
    }
   ],
   "source": [
    "f2257 = pd.read_csv(org_f2257_pheno, delimiter=\" \")\n",
    "\n",
    "print(\"original all_pheno_no_outlier shape\", all_pheno_no_outlier.shape)\n",
    "print(\"f2257 shape\", f2257.shape)\n",
    "\n",
    "diff = set(all_pheno_no_outlier[\"FID\"].to_list()).difference(f2257[\"FID\"].to_list())\n",
    "not_outlier = lambda row: dont_keep_in_list(row, diff)\n",
    "\n",
    "i = all_pheno_no_outlier.apply(not_outlier, axis=1)\n",
    "f2257_pca = all_pheno_no_outlier.drop(i[i != -1].index)\n",
    "\n",
    "print(\"f2257 pca shape\", f2257_pca.shape)"
   ]
  },
  {
   "cell_type": "code",
   "execution_count": 16,
   "id": "e0014a45-39a2-4488-855a-df06853ae287",
   "metadata": {},
   "outputs": [],
   "source": [
    "f2257_pca.to_csv(new_f2257_pheno, sep=\"\\t\", index=False)"
   ]
  },
  {
   "cell_type": "markdown",
   "id": "40409537-be58-4f68-a357-a705c45c615e",
   "metadata": {},
   "source": [
    "### f2247 & f2257"
   ]
  },
  {
   "cell_type": "code",
   "execution_count": 17,
   "id": "9b8267eb-c1e2-4be5-98ff-88ed6f110221",
   "metadata": {},
   "outputs": [],
   "source": [
    "org_f2247_f2257_pheno = \"/gpfs/gibbs/pi/dewan/data/UKBiobank/phenotype_files/hearing_impairment/phenotypes_exome_data/010421_UKBB_f2247_f2257_136862ind_exomes\"\n",
    "new_f2247_f2257_pheno = \"~/hearing_pca/010421_UKBB_f2247_f2257_136862ind_exomes.pheno\""
   ]
  },
  {
   "cell_type": "code",
   "execution_count": 18,
   "id": "ee6c13c9-4004-4041-8080-de42d2dfbd4b",
   "metadata": {},
   "outputs": [
    {
     "name": "stdout",
     "output_type": "stream",
     "text": [
      "original all_pheno_no_outlier shape (188443, 4)\n",
      "f2247_f2257 shape (136862, 5)\n",
      "f2247_f2257 pca shape (136747, 4)\n"
     ]
    }
   ],
   "source": [
    "f2247_f2257 = pd.read_csv(org_f2247_f2257_pheno, delimiter=\" \")\n",
    "\n",
    "print(\"original all_pheno_no_outlier shape\", all_pheno_no_outlier.shape)\n",
    "print(\"f2247_f2257 shape\", f2247_f2257.shape)\n",
    "\n",
    "diff = set(all_pheno_no_outlier[\"FID\"].to_list()).difference(f2247_f2257[\"FID\"].to_list())\n",
    "not_outlier = lambda row: dont_keep_in_list(row, diff)\n",
    "\n",
    "i = all_pheno_no_outlier.apply(not_outlier, axis=1)\n",
    "f2247_f2257_pca = all_pheno_no_outlier.drop(i[i != -1].index)\n",
    "\n",
    "print(\"f2247_f2257 pca shape\", f2247_f2257_pca.shape)"
   ]
  },
  {
   "cell_type": "code",
   "execution_count": 19,
   "id": "fb375846-d4a4-41b8-a6d0-5de99a669c4c",
   "metadata": {},
   "outputs": [],
   "source": [
    "f2247_f2257_pca.to_csv(new_f2247_f2257_pheno, sep=\"\\t\", index=False)"
   ]
  },
  {
   "cell_type": "code",
   "execution_count": null,
   "id": "f7d71246-eb38-4031-9ba7-e5712f7c022b",
   "metadata": {},
   "outputs": [],
   "source": []
  }
 ],
 "metadata": {
  "kernelspec": {
   "display_name": "Python 3",
   "language": "python",
   "name": "python3"
  },
  "language_info": {
   "codemirror_mode": {
    "name": "ipython",
    "version": 3
   },
   "file_extension": ".py",
   "mimetype": "text/x-python",
   "name": "python",
   "nbconvert_exporter": "python",
   "pygments_lexer": "ipython3",
   "version": "3.8.3"
  }
 },
 "nbformat": 4,
 "nbformat_minor": 5
}
