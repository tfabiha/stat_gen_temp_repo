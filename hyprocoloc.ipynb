{
 "cells": [
  {
   "cell_type": "code",
   "execution_count": 1,
   "metadata": {},
   "outputs": [
    {
     "name": "stdout",
     "output_type": "stream",
     "text": [
      "\n",
      "The downloaded binary packages are in\n",
      "\t/var/folders/2s/fbgwc0x137b7hsj2c34m774w0000gn/T//Rtmp3LLQMD/downloaded_packages\n"
     ]
    }
   ],
   "source": [
    "install.packages(\"devtools\")"
   ]
  },
  {
   "cell_type": "code",
   "execution_count": 2,
   "metadata": {},
   "outputs": [
    {
     "name": "stderr",
     "output_type": "stream",
     "text": [
      "Loading required package: usethis\n",
      "\n"
     ]
    }
   ],
   "source": [
    "library(devtools)"
   ]
  },
  {
   "cell_type": "code",
   "execution_count": 10,
   "metadata": {},
   "outputs": [
    {
     "name": "stderr",
     "output_type": "stream",
     "text": [
      "Downloading GitHub repo cnfoley/hyprcoloc@HEAD\n",
      "\n"
     ]
    },
    {
     "name": "stdout",
     "output_type": "stream",
     "text": [
      "\n",
      "\u001b[32m✔\u001b[39m  \u001b[90mchecking for file ‘/private/var/folders/2s/fbgwc0x137b7hsj2c34m774w0000gn/T/Rtmp3LLQMD/remotesb042231dcde7/cnfoley-hyprcoloc-26ea595/DESCRIPTION’\u001b[39m\u001b[36m\u001b[36m (433ms)\u001b[36m\u001b[39m\n",
      "\u001b[90m─\u001b[39m\u001b[90m  \u001b[39m\u001b[90mpreparing ‘hyprcoloc’:\u001b[39m\u001b[36m\u001b[39m\n",
      "\u001b[32m✔\u001b[39m  \u001b[90mchecking DESCRIPTION meta-information\u001b[39m\u001b[36m\u001b[39m\n",
      "\u001b[90m─\u001b[39m\u001b[90m  \u001b[39m\u001b[90mcleaning src\u001b[39m\u001b[36m\u001b[39m\n",
      "\u001b[90m─\u001b[39m\u001b[90m  \u001b[39m\u001b[90minstalling the package to build vignettes\u001b[39m\u001b[36m\u001b[39m\n",
      "\u001b[32m✔\u001b[39m  \u001b[90mcreating vignettes\u001b[39m\u001b[36m\u001b[36m (3m 26.6s)\u001b[36m\u001b[39m\n",
      "\u001b[90m─\u001b[39m\u001b[90m  \u001b[39m\u001b[90mcleaning src\u001b[39m\u001b[36m\u001b[39m\n",
      "\u001b[90m─\u001b[39m\u001b[90m  \u001b[39m\u001b[90mchecking for LF line-endings in source and make files and shell scripts\u001b[39m\u001b[36m\u001b[39m\n",
      "\u001b[90m─\u001b[39m\u001b[90m  \u001b[39m\u001b[90mchecking for empty or unneeded directories\u001b[39m\u001b[36m\u001b[39m\n",
      "\u001b[90m─\u001b[39m\u001b[90m  \u001b[39m\u001b[90mbuilding ‘hyprcoloc_1.0.tar.gz’\u001b[39m\u001b[36m\u001b[39m\n",
      "   \n",
      "\r"
     ]
    }
   ],
   "source": [
    "install_github(\"cnfoley/hyprcoloc\", build_opts = c(\"--resave-data\", \"--no-manual\"), build_vignettes = TRUE)"
   ]
  },
  {
   "cell_type": "code",
   "execution_count": 14,
   "metadata": {},
   "outputs": [],
   "source": [
    "library(hyprcoloc)"
   ]
  },
  {
   "cell_type": "code",
   "execution_count": 16,
   "metadata": {},
   "outputs": [],
   "source": [
    "betas <- hyprcoloc::test.betas"
   ]
  },
  {
   "cell_type": "code",
   "execution_count": 18,
   "metadata": {},
   "outputs": [
    {
     "data": {
      "text/html": [
       "<table>\n",
       "<caption>A matrix: 6 × 10 of type dbl</caption>\n",
       "<thead>\n",
       "\t<tr><th></th><th scope=col>T1</th><th scope=col>T2</th><th scope=col>T3</th><th scope=col>T4</th><th scope=col>T5</th><th scope=col>T6</th><th scope=col>T7</th><th scope=col>T8</th><th scope=col>T9</th><th scope=col>T10</th></tr>\n",
       "</thead>\n",
       "<tbody>\n",
       "\t<tr><th scope=row>rs6694014</th><td> 0.02791630</td><td>-0.030353270</td><td>-0.0006508550</td><td>-0.015820079</td><td> 0.029344113</td><td>-0.03739309</td><td>-0.05015619</td><td>-0.03963766</td><td>-0.0497666615</td><td>-0.01565694</td></tr>\n",
       "\t<tr><th scope=row>rs11206477</th><td>-0.01333565</td><td>-0.007925434</td><td>-0.0220791782</td><td>-0.024533654</td><td>-0.006170044</td><td> 0.08915364</td><td> 0.08788543</td><td> 0.07824464</td><td>-0.0364999498</td><td>-0.07140001</td></tr>\n",
       "\t<tr><th scope=row>rs978479</th><td> 0.02789307</td><td>-0.031569213</td><td> 0.0013910408</td><td>-0.016449156</td><td> 0.030562284</td><td>-0.03667044</td><td>-0.04993080</td><td>-0.03999140</td><td>-0.0485026083</td><td>-0.01742117</td></tr>\n",
       "\t<tr><th scope=row>rs6684892</th><td> 0.01109516</td><td>-0.035811867</td><td>-0.0041582437</td><td>-0.001093336</td><td> 0.021029899</td><td>-0.04342024</td><td>-0.05462565</td><td>-0.02610322</td><td>-0.0516383902</td><td>-0.01373675</td></tr>\n",
       "\t<tr><th scope=row>rs149881092</th><td>-0.02058398</td><td> 0.033028644</td><td> 0.0732322501</td><td>-0.062564186</td><td> 0.031519527</td><td> 0.03339484</td><td> 0.08794777</td><td> 0.06747322</td><td> 0.0002877561</td><td>-0.01701753</td></tr>\n",
       "\t<tr><th scope=row>rs2081705</th><td> 0.02804342</td><td>-0.031658194</td><td>-0.0006283532</td><td>-0.017953736</td><td> 0.029719314</td><td>-0.03798465</td><td>-0.05052849</td><td>-0.04150411</td><td>-0.0498085699</td><td>-0.01767236</td></tr>\n",
       "</tbody>\n",
       "</table>\n"
      ],
      "text/latex": [
       "A matrix: 6 × 10 of type dbl\n",
       "\\begin{tabular}{r|llllllllll}\n",
       "  & T1 & T2 & T3 & T4 & T5 & T6 & T7 & T8 & T9 & T10\\\\\n",
       "\\hline\n",
       "\trs6694014 &  0.02791630 & -0.030353270 & -0.0006508550 & -0.015820079 &  0.029344113 & -0.03739309 & -0.05015619 & -0.03963766 & -0.0497666615 & -0.01565694\\\\\n",
       "\trs11206477 & -0.01333565 & -0.007925434 & -0.0220791782 & -0.024533654 & -0.006170044 &  0.08915364 &  0.08788543 &  0.07824464 & -0.0364999498 & -0.07140001\\\\\n",
       "\trs978479 &  0.02789307 & -0.031569213 &  0.0013910408 & -0.016449156 &  0.030562284 & -0.03667044 & -0.04993080 & -0.03999140 & -0.0485026083 & -0.01742117\\\\\n",
       "\trs6684892 &  0.01109516 & -0.035811867 & -0.0041582437 & -0.001093336 &  0.021029899 & -0.04342024 & -0.05462565 & -0.02610322 & -0.0516383902 & -0.01373675\\\\\n",
       "\trs149881092 & -0.02058398 &  0.033028644 &  0.0732322501 & -0.062564186 &  0.031519527 &  0.03339484 &  0.08794777 &  0.06747322 &  0.0002877561 & -0.01701753\\\\\n",
       "\trs2081705 &  0.02804342 & -0.031658194 & -0.0006283532 & -0.017953736 &  0.029719314 & -0.03798465 & -0.05052849 & -0.04150411 & -0.0498085699 & -0.01767236\\\\\n",
       "\\end{tabular}\n"
      ],
      "text/markdown": [
       "\n",
       "A matrix: 6 × 10 of type dbl\n",
       "\n",
       "| <!--/--> | T1 | T2 | T3 | T4 | T5 | T6 | T7 | T8 | T9 | T10 |\n",
       "|---|---|---|---|---|---|---|---|---|---|---|\n",
       "| rs6694014 |  0.02791630 | -0.030353270 | -0.0006508550 | -0.015820079 |  0.029344113 | -0.03739309 | -0.05015619 | -0.03963766 | -0.0497666615 | -0.01565694 |\n",
       "| rs11206477 | -0.01333565 | -0.007925434 | -0.0220791782 | -0.024533654 | -0.006170044 |  0.08915364 |  0.08788543 |  0.07824464 | -0.0364999498 | -0.07140001 |\n",
       "| rs978479 |  0.02789307 | -0.031569213 |  0.0013910408 | -0.016449156 |  0.030562284 | -0.03667044 | -0.04993080 | -0.03999140 | -0.0485026083 | -0.01742117 |\n",
       "| rs6684892 |  0.01109516 | -0.035811867 | -0.0041582437 | -0.001093336 |  0.021029899 | -0.04342024 | -0.05462565 | -0.02610322 | -0.0516383902 | -0.01373675 |\n",
       "| rs149881092 | -0.02058398 |  0.033028644 |  0.0732322501 | -0.062564186 |  0.031519527 |  0.03339484 |  0.08794777 |  0.06747322 |  0.0002877561 | -0.01701753 |\n",
       "| rs2081705 |  0.02804342 | -0.031658194 | -0.0006283532 | -0.017953736 |  0.029719314 | -0.03798465 | -0.05052849 | -0.04150411 | -0.0498085699 | -0.01767236 |\n",
       "\n"
      ],
      "text/plain": [
       "            T1          T2           T3            T4           T5          \n",
       "rs6694014    0.02791630 -0.030353270 -0.0006508550 -0.015820079  0.029344113\n",
       "rs11206477  -0.01333565 -0.007925434 -0.0220791782 -0.024533654 -0.006170044\n",
       "rs978479     0.02789307 -0.031569213  0.0013910408 -0.016449156  0.030562284\n",
       "rs6684892    0.01109516 -0.035811867 -0.0041582437 -0.001093336  0.021029899\n",
       "rs149881092 -0.02058398  0.033028644  0.0732322501 -0.062564186  0.031519527\n",
       "rs2081705    0.02804342 -0.031658194 -0.0006283532 -0.017953736  0.029719314\n",
       "            T6          T7          T8          T9            T10        \n",
       "rs6694014   -0.03739309 -0.05015619 -0.03963766 -0.0497666615 -0.01565694\n",
       "rs11206477   0.08915364  0.08788543  0.07824464 -0.0364999498 -0.07140001\n",
       "rs978479    -0.03667044 -0.04993080 -0.03999140 -0.0485026083 -0.01742117\n",
       "rs6684892   -0.04342024 -0.05462565 -0.02610322 -0.0516383902 -0.01373675\n",
       "rs149881092  0.03339484  0.08794777  0.06747322  0.0002877561 -0.01701753\n",
       "rs2081705   -0.03798465 -0.05052849 -0.04150411 -0.0498085699 -0.01767236"
      ]
     },
     "metadata": {},
     "output_type": "display_data"
    }
   ],
   "source": [
    "head(betas)"
   ]
  },
  {
   "cell_type": "code",
   "execution_count": 19,
   "metadata": {},
   "outputs": [],
   "source": [
    "ses <- hyprcoloc::test.ses"
   ]
  },
  {
   "cell_type": "code",
   "execution_count": 20,
   "metadata": {},
   "outputs": [
    {
     "data": {
      "text/html": [
       "<table>\n",
       "<caption>A matrix: 6 × 10 of type dbl</caption>\n",
       "<thead>\n",
       "\t<tr><th></th><th scope=col>T1</th><th scope=col>T2</th><th scope=col>T3</th><th scope=col>T4</th><th scope=col>T5</th><th scope=col>T6</th><th scope=col>T7</th><th scope=col>T8</th><th scope=col>T9</th><th scope=col>T10</th></tr>\n",
       "</thead>\n",
       "<tbody>\n",
       "\t<tr><th scope=row>rs6694014</th><td>0.01640805</td><td>0.01601499</td><td>0.01606328</td><td>0.01595009</td><td>0.01629387</td><td>0.01602093</td><td>0.01618062</td><td>0.01625153</td><td>0.01639785</td><td>0.01626775</td></tr>\n",
       "\t<tr><th scope=row>rs11206477</th><td>0.01522992</td><td>0.01486595</td><td>0.01490668</td><td>0.01480196</td><td>0.01512465</td><td>0.01484631</td><td>0.01499870</td><td>0.01506721</td><td>0.01522146</td><td>0.01508189</td></tr>\n",
       "\t<tr><th scope=row>rs978479</th><td>0.01642066</td><td>0.01602706</td><td>0.01607561</td><td>0.01596228</td><td>0.01630616</td><td>0.01603341</td><td>0.01619313</td><td>0.01626394</td><td>0.01641083</td><td>0.01628007</td></tr>\n",
       "\t<tr><th scope=row>rs6684892</th><td>0.01738306</td><td>0.01696379</td><td>0.01701563</td><td>0.01689661</td><td>0.01726146</td><td>0.01696989</td><td>0.01713951</td><td>0.01721824</td><td>0.01737041</td><td>0.01723253</td></tr>\n",
       "\t<tr><th scope=row>rs149881092</th><td>0.03917473</td><td>0.03823671</td><td>0.03833955</td><td>0.03807307</td><td>0.03890204</td><td>0.03825441</td><td>0.03863522</td><td>0.03880163</td><td>0.03916327</td><td>0.03883610</td></tr>\n",
       "\t<tr><th scope=row>rs2081705</th><td>0.01643768</td><td>0.01604368</td><td>0.01609229</td><td>0.01597868</td><td>0.01632324</td><td>0.01604975</td><td>0.01620976</td><td>0.01628044</td><td>0.01642748</td><td>0.01629694</td></tr>\n",
       "</tbody>\n",
       "</table>\n"
      ],
      "text/latex": [
       "A matrix: 6 × 10 of type dbl\n",
       "\\begin{tabular}{r|llllllllll}\n",
       "  & T1 & T2 & T3 & T4 & T5 & T6 & T7 & T8 & T9 & T10\\\\\n",
       "\\hline\n",
       "\trs6694014 & 0.01640805 & 0.01601499 & 0.01606328 & 0.01595009 & 0.01629387 & 0.01602093 & 0.01618062 & 0.01625153 & 0.01639785 & 0.01626775\\\\\n",
       "\trs11206477 & 0.01522992 & 0.01486595 & 0.01490668 & 0.01480196 & 0.01512465 & 0.01484631 & 0.01499870 & 0.01506721 & 0.01522146 & 0.01508189\\\\\n",
       "\trs978479 & 0.01642066 & 0.01602706 & 0.01607561 & 0.01596228 & 0.01630616 & 0.01603341 & 0.01619313 & 0.01626394 & 0.01641083 & 0.01628007\\\\\n",
       "\trs6684892 & 0.01738306 & 0.01696379 & 0.01701563 & 0.01689661 & 0.01726146 & 0.01696989 & 0.01713951 & 0.01721824 & 0.01737041 & 0.01723253\\\\\n",
       "\trs149881092 & 0.03917473 & 0.03823671 & 0.03833955 & 0.03807307 & 0.03890204 & 0.03825441 & 0.03863522 & 0.03880163 & 0.03916327 & 0.03883610\\\\\n",
       "\trs2081705 & 0.01643768 & 0.01604368 & 0.01609229 & 0.01597868 & 0.01632324 & 0.01604975 & 0.01620976 & 0.01628044 & 0.01642748 & 0.01629694\\\\\n",
       "\\end{tabular}\n"
      ],
      "text/markdown": [
       "\n",
       "A matrix: 6 × 10 of type dbl\n",
       "\n",
       "| <!--/--> | T1 | T2 | T3 | T4 | T5 | T6 | T7 | T8 | T9 | T10 |\n",
       "|---|---|---|---|---|---|---|---|---|---|---|\n",
       "| rs6694014 | 0.01640805 | 0.01601499 | 0.01606328 | 0.01595009 | 0.01629387 | 0.01602093 | 0.01618062 | 0.01625153 | 0.01639785 | 0.01626775 |\n",
       "| rs11206477 | 0.01522992 | 0.01486595 | 0.01490668 | 0.01480196 | 0.01512465 | 0.01484631 | 0.01499870 | 0.01506721 | 0.01522146 | 0.01508189 |\n",
       "| rs978479 | 0.01642066 | 0.01602706 | 0.01607561 | 0.01596228 | 0.01630616 | 0.01603341 | 0.01619313 | 0.01626394 | 0.01641083 | 0.01628007 |\n",
       "| rs6684892 | 0.01738306 | 0.01696379 | 0.01701563 | 0.01689661 | 0.01726146 | 0.01696989 | 0.01713951 | 0.01721824 | 0.01737041 | 0.01723253 |\n",
       "| rs149881092 | 0.03917473 | 0.03823671 | 0.03833955 | 0.03807307 | 0.03890204 | 0.03825441 | 0.03863522 | 0.03880163 | 0.03916327 | 0.03883610 |\n",
       "| rs2081705 | 0.01643768 | 0.01604368 | 0.01609229 | 0.01597868 | 0.01632324 | 0.01604975 | 0.01620976 | 0.01628044 | 0.01642748 | 0.01629694 |\n",
       "\n"
      ],
      "text/plain": [
       "            T1         T2         T3         T4         T5         T6        \n",
       "rs6694014   0.01640805 0.01601499 0.01606328 0.01595009 0.01629387 0.01602093\n",
       "rs11206477  0.01522992 0.01486595 0.01490668 0.01480196 0.01512465 0.01484631\n",
       "rs978479    0.01642066 0.01602706 0.01607561 0.01596228 0.01630616 0.01603341\n",
       "rs6684892   0.01738306 0.01696379 0.01701563 0.01689661 0.01726146 0.01696989\n",
       "rs149881092 0.03917473 0.03823671 0.03833955 0.03807307 0.03890204 0.03825441\n",
       "rs2081705   0.01643768 0.01604368 0.01609229 0.01597868 0.01632324 0.01604975\n",
       "            T7         T8         T9         T10       \n",
       "rs6694014   0.01618062 0.01625153 0.01639785 0.01626775\n",
       "rs11206477  0.01499870 0.01506721 0.01522146 0.01508189\n",
       "rs978479    0.01619313 0.01626394 0.01641083 0.01628007\n",
       "rs6684892   0.01713951 0.01721824 0.01737041 0.01723253\n",
       "rs149881092 0.03863522 0.03880163 0.03916327 0.03883610\n",
       "rs2081705   0.01620976 0.01628044 0.01642748 0.01629694"
      ]
     },
     "metadata": {},
     "output_type": "display_data"
    }
   ],
   "source": [
    "head(ses)"
   ]
  },
  {
   "cell_type": "code",
   "execution_count": 22,
   "metadata": {},
   "outputs": [],
   "source": [
    "traits <- paste0(\"T\", 1:10)"
   ]
  },
  {
   "cell_type": "code",
   "execution_count": 80,
   "metadata": {},
   "outputs": [
    {
     "data": {
      "text/html": [
       "<style>\n",
       ".list-inline {list-style: none; margin:0; padding: 0}\n",
       ".list-inline>li {display: inline-block}\n",
       ".list-inline>li:not(:last-child)::after {content: \"\\00b7\"; padding: 0 .5ex}\n",
       "</style>\n",
       "<ol class=list-inline><li>'T1'</li><li>'T2'</li><li>'T3'</li><li>'T4'</li><li>'T5'</li><li>'T6'</li><li>'T7'</li><li>'T8'</li><li>'T9'</li><li>'T10'</li></ol>\n"
      ],
      "text/latex": [
       "\\begin{enumerate*}\n",
       "\\item 'T1'\n",
       "\\item 'T2'\n",
       "\\item 'T3'\n",
       "\\item 'T4'\n",
       "\\item 'T5'\n",
       "\\item 'T6'\n",
       "\\item 'T7'\n",
       "\\item 'T8'\n",
       "\\item 'T9'\n",
       "\\item 'T10'\n",
       "\\end{enumerate*}\n"
      ],
      "text/markdown": [
       "1. 'T1'\n",
       "2. 'T2'\n",
       "3. 'T3'\n",
       "4. 'T4'\n",
       "5. 'T5'\n",
       "6. 'T6'\n",
       "7. 'T7'\n",
       "8. 'T8'\n",
       "9. 'T9'\n",
       "10. 'T10'\n",
       "\n",
       "\n"
      ],
      "text/plain": [
       " [1] \"T1\"  \"T2\"  \"T3\"  \"T4\"  \"T5\"  \"T6\"  \"T7\"  \"T8\"  \"T9\"  \"T10\""
      ]
     },
     "metadata": {},
     "output_type": "display_data"
    }
   ],
   "source": [
    "traits"
   ]
  },
  {
   "cell_type": "code",
   "execution_count": 23,
   "metadata": {},
   "outputs": [],
   "source": [
    "rsid <- rownames(betas)"
   ]
  },
  {
   "cell_type": "code",
   "execution_count": 24,
   "metadata": {},
   "outputs": [
    {
     "data": {
      "text/plain": [
       "$results\n",
       "  iteration             traits posterior_prob regional_prob candidate_snp\n",
       "1         1 T1, T2, T3, T4, T5         1.0000             1    rs11591147\n",
       "2         2         T6, T7, T8         0.9164             1    rs12117612\n",
       "3         3            T9, T10         0.9018             1     rs7524677\n",
       "  posterior_explained_by_snp dropped_trait\n",
       "1                     1.0000            NA\n",
       "2                     0.4197            NA\n",
       "3                     0.0763            NA\n",
       "\n",
       "attr(,\"class\")\n",
       "[1] \"hyprcoloc\""
      ]
     },
     "metadata": {},
     "output_type": "display_data"
    }
   ],
   "source": [
    "hyprcoloc(betas, ses, trait.names=traits, snp.id=rsid)"
   ]
  },
  {
   "cell_type": "markdown",
   "metadata": {},
   "source": [
    "## Analysis on JAZF1 gene"
   ]
  },
  {
   "cell_type": "code",
   "execution_count": 294,
   "metadata": {},
   "outputs": [],
   "source": [
    "start_ind = 1191\n",
    "end_ind = 2067"
   ]
  },
  {
   "cell_type": "code",
   "execution_count": 295,
   "metadata": {},
   "outputs": [],
   "source": [
    "df.asthma <- read.table(\"Asthma_casesbyICD10codesANDselfreport_controlsbyselfreportandicd10_noautoimmuneincontrols_forbolt030720_ASTHMA.fastGWA.snp_stats_7_27868573_28273990.sumstats\", header= TRUE, stringsAsFactors = FALSE)\n",
    "colnames(df.asthma) <- c(\"INDEX\", \"CHR\", \"POS\", \"REF\", \"ALT\", \"SNP\", \"BETA\", \"SE\", \"P\")"
   ]
  },
  {
   "cell_type": "code",
   "execution_count": 296,
   "metadata": {},
   "outputs": [
    {
     "data": {
      "text/html": [
       "<table>\n",
       "<caption>A data.frame: 6 × 9</caption>\n",
       "<thead>\n",
       "\t<tr><th></th><th scope=col>INDEX</th><th scope=col>CHR</th><th scope=col>POS</th><th scope=col>REF</th><th scope=col>ALT</th><th scope=col>SNP</th><th scope=col>BETA</th><th scope=col>SE</th><th scope=col>P</th></tr>\n",
       "\t<tr><th></th><th scope=col>&lt;chr&gt;</th><th scope=col>&lt;int&gt;</th><th scope=col>&lt;int&gt;</th><th scope=col>&lt;chr&gt;</th><th scope=col>&lt;chr&gt;</th><th scope=col>&lt;chr&gt;</th><th scope=col>&lt;dbl&gt;</th><th scope=col>&lt;dbl&gt;</th><th scope=col>&lt;dbl&gt;</th></tr>\n",
       "</thead>\n",
       "<tbody>\n",
       "\t<tr><th scope=row>1</th><td>7_27869098_C_T    </td><td>7</td><td>27869098</td><td>C</td><td>T    </td><td>rs545409685       </td><td> 0.014231300</td><td>0.008599420</td><td>0.0979416</td></tr>\n",
       "\t<tr><th scope=row>2</th><td>7_27869261_C_CAGTA</td><td>7</td><td>27869261</td><td>C</td><td>CAGTA</td><td>7:27869261_CAGTA_C</td><td> 0.004135180</td><td>0.011956800</td><td>0.7294600</td></tr>\n",
       "\t<tr><th scope=row>3</th><td>7_27869377_G_A    </td><td>7</td><td>27869377</td><td>G</td><td>A    </td><td>rs73075348        </td><td> 0.000579906</td><td>0.001842790</td><td>0.7529980</td></tr>\n",
       "\t<tr><th scope=row>4</th><td>7_27869782_A_G    </td><td>7</td><td>27869782</td><td>A</td><td>G    </td><td>rs6948467         </td><td>-0.000289635</td><td>0.000875055</td><td>0.7406510</td></tr>\n",
       "\t<tr><th scope=row>5</th><td>7_27869794_G_C    </td><td>7</td><td>27869794</td><td>G</td><td>C    </td><td>rs73075354        </td><td> 0.001140130</td><td>0.001334370</td><td>0.3928650</td></tr>\n",
       "\t<tr><th scope=row>6</th><td>7_27869921_A_C    </td><td>7</td><td>27869921</td><td>A</td><td>C    </td><td>rs35410592        </td><td>-0.002454960</td><td>0.004481440</td><td>0.5838250</td></tr>\n",
       "</tbody>\n",
       "</table>\n"
      ],
      "text/latex": [
       "A data.frame: 6 × 9\n",
       "\\begin{tabular}{r|lllllllll}\n",
       "  & INDEX & CHR & POS & REF & ALT & SNP & BETA & SE & P\\\\\n",
       "  & <chr> & <int> & <int> & <chr> & <chr> & <chr> & <dbl> & <dbl> & <dbl>\\\\\n",
       "\\hline\n",
       "\t1 & 7\\_27869098\\_C\\_T     & 7 & 27869098 & C & T     & rs545409685        &  0.014231300 & 0.008599420 & 0.0979416\\\\\n",
       "\t2 & 7\\_27869261\\_C\\_CAGTA & 7 & 27869261 & C & CAGTA & 7:27869261\\_CAGTA\\_C &  0.004135180 & 0.011956800 & 0.7294600\\\\\n",
       "\t3 & 7\\_27869377\\_G\\_A     & 7 & 27869377 & G & A     & rs73075348         &  0.000579906 & 0.001842790 & 0.7529980\\\\\n",
       "\t4 & 7\\_27869782\\_A\\_G     & 7 & 27869782 & A & G     & rs6948467          & -0.000289635 & 0.000875055 & 0.7406510\\\\\n",
       "\t5 & 7\\_27869794\\_G\\_C     & 7 & 27869794 & G & C     & rs73075354         &  0.001140130 & 0.001334370 & 0.3928650\\\\\n",
       "\t6 & 7\\_27869921\\_A\\_C     & 7 & 27869921 & A & C     & rs35410592         & -0.002454960 & 0.004481440 & 0.5838250\\\\\n",
       "\\end{tabular}\n"
      ],
      "text/markdown": [
       "\n",
       "A data.frame: 6 × 9\n",
       "\n",
       "| <!--/--> | INDEX &lt;chr&gt; | CHR &lt;int&gt; | POS &lt;int&gt; | REF &lt;chr&gt; | ALT &lt;chr&gt; | SNP &lt;chr&gt; | BETA &lt;dbl&gt; | SE &lt;dbl&gt; | P &lt;dbl&gt; |\n",
       "|---|---|---|---|---|---|---|---|---|---|\n",
       "| 1 | 7_27869098_C_T     | 7 | 27869098 | C | T     | rs545409685        |  0.014231300 | 0.008599420 | 0.0979416 |\n",
       "| 2 | 7_27869261_C_CAGTA | 7 | 27869261 | C | CAGTA | 7:27869261_CAGTA_C |  0.004135180 | 0.011956800 | 0.7294600 |\n",
       "| 3 | 7_27869377_G_A     | 7 | 27869377 | G | A     | rs73075348         |  0.000579906 | 0.001842790 | 0.7529980 |\n",
       "| 4 | 7_27869782_A_G     | 7 | 27869782 | A | G     | rs6948467          | -0.000289635 | 0.000875055 | 0.7406510 |\n",
       "| 5 | 7_27869794_G_C     | 7 | 27869794 | G | C     | rs73075354         |  0.001140130 | 0.001334370 | 0.3928650 |\n",
       "| 6 | 7_27869921_A_C     | 7 | 27869921 | A | C     | rs35410592         | -0.002454960 | 0.004481440 | 0.5838250 |\n",
       "\n"
      ],
      "text/plain": [
       "  INDEX              CHR POS      REF ALT   SNP                BETA        \n",
       "1 7_27869098_C_T     7   27869098 C   T     rs545409685         0.014231300\n",
       "2 7_27869261_C_CAGTA 7   27869261 C   CAGTA 7:27869261_CAGTA_C  0.004135180\n",
       "3 7_27869377_G_A     7   27869377 G   A     rs73075348          0.000579906\n",
       "4 7_27869782_A_G     7   27869782 A   G     rs6948467          -0.000289635\n",
       "5 7_27869794_G_C     7   27869794 G   C     rs73075354          0.001140130\n",
       "6 7_27869921_A_C     7   27869921 A   C     rs35410592         -0.002454960\n",
       "  SE          P        \n",
       "1 0.008599420 0.0979416\n",
       "2 0.011956800 0.7294600\n",
       "3 0.001842790 0.7529980\n",
       "4 0.000875055 0.7406510\n",
       "5 0.001334370 0.3928650\n",
       "6 0.004481440 0.5838250"
      ]
     },
     "metadata": {},
     "output_type": "display_data"
    }
   ],
   "source": [
    "head(df.asthma)"
   ]
  },
  {
   "cell_type": "code",
   "execution_count": 297,
   "metadata": {},
   "outputs": [],
   "source": [
    "df.asthma <- df.asthma[start_ind:end_ind,]"
   ]
  },
  {
   "cell_type": "code",
   "execution_count": 298,
   "metadata": {},
   "outputs": [
    {
     "data": {
      "text/html": [
       "<table>\n",
       "<caption>A data.frame: 6 × 9</caption>\n",
       "<thead>\n",
       "\t<tr><th></th><th scope=col>INDEX</th><th scope=col>CHR</th><th scope=col>POS</th><th scope=col>REF</th><th scope=col>ALT</th><th scope=col>SNP</th><th scope=col>BETA</th><th scope=col>SE</th><th scope=col>P</th></tr>\n",
       "\t<tr><th></th><th scope=col>&lt;chr&gt;</th><th scope=col>&lt;int&gt;</th><th scope=col>&lt;int&gt;</th><th scope=col>&lt;chr&gt;</th><th scope=col>&lt;chr&gt;</th><th scope=col>&lt;chr&gt;</th><th scope=col>&lt;dbl&gt;</th><th scope=col>&lt;dbl&gt;</th><th scope=col>&lt;dbl&gt;</th></tr>\n",
       "</thead>\n",
       "<tbody>\n",
       "\t<tr><th scope=row>1191</th><td>7_28100673_C_T</td><td>7</td><td>28100673</td><td>C</td><td>T</td><td>rs75405943 </td><td>-0.00664865</td><td>0.002787620</td><td>0.0170764</td></tr>\n",
       "\t<tr><th scope=row>1192</th><td>7_28100723_T_C</td><td>7</td><td>28100723</td><td>T</td><td>C</td><td>rs116894487</td><td> 0.00393076</td><td>0.004816710</td><td>0.4144620</td></tr>\n",
       "\t<tr><th scope=row>1193</th><td>7_28101598_A_G</td><td>7</td><td>28101598</td><td>A</td><td>G</td><td>rs117256467</td><td> 0.00392824</td><td>0.004816900</td><td>0.4147790</td></tr>\n",
       "\t<tr><th scope=row>1194</th><td>7_28101849_C_G</td><td>7</td><td>28101849</td><td>C</td><td>G</td><td>rs762183742</td><td>-0.01992930</td><td>0.012905700</td><td>0.1225360</td></tr>\n",
       "\t<tr><th scope=row>1195</th><td>7_28101878_C_G</td><td>7</td><td>28101878</td><td>C</td><td>G</td><td>rs9784957  </td><td>-0.00144490</td><td>0.000855464</td><td>0.0912158</td></tr>\n",
       "\t<tr><th scope=row>1196</th><td>7_28102142_A_T</td><td>7</td><td>28102142</td><td>A</td><td>T</td><td>rs138398586</td><td>-0.00421274</td><td>0.010085600</td><td>0.6761680</td></tr>\n",
       "</tbody>\n",
       "</table>\n"
      ],
      "text/latex": [
       "A data.frame: 6 × 9\n",
       "\\begin{tabular}{r|lllllllll}\n",
       "  & INDEX & CHR & POS & REF & ALT & SNP & BETA & SE & P\\\\\n",
       "  & <chr> & <int> & <int> & <chr> & <chr> & <chr> & <dbl> & <dbl> & <dbl>\\\\\n",
       "\\hline\n",
       "\t1191 & 7\\_28100673\\_C\\_T & 7 & 28100673 & C & T & rs75405943  & -0.00664865 & 0.002787620 & 0.0170764\\\\\n",
       "\t1192 & 7\\_28100723\\_T\\_C & 7 & 28100723 & T & C & rs116894487 &  0.00393076 & 0.004816710 & 0.4144620\\\\\n",
       "\t1193 & 7\\_28101598\\_A\\_G & 7 & 28101598 & A & G & rs117256467 &  0.00392824 & 0.004816900 & 0.4147790\\\\\n",
       "\t1194 & 7\\_28101849\\_C\\_G & 7 & 28101849 & C & G & rs762183742 & -0.01992930 & 0.012905700 & 0.1225360\\\\\n",
       "\t1195 & 7\\_28101878\\_C\\_G & 7 & 28101878 & C & G & rs9784957   & -0.00144490 & 0.000855464 & 0.0912158\\\\\n",
       "\t1196 & 7\\_28102142\\_A\\_T & 7 & 28102142 & A & T & rs138398586 & -0.00421274 & 0.010085600 & 0.6761680\\\\\n",
       "\\end{tabular}\n"
      ],
      "text/markdown": [
       "\n",
       "A data.frame: 6 × 9\n",
       "\n",
       "| <!--/--> | INDEX &lt;chr&gt; | CHR &lt;int&gt; | POS &lt;int&gt; | REF &lt;chr&gt; | ALT &lt;chr&gt; | SNP &lt;chr&gt; | BETA &lt;dbl&gt; | SE &lt;dbl&gt; | P &lt;dbl&gt; |\n",
       "|---|---|---|---|---|---|---|---|---|---|\n",
       "| 1191 | 7_28100673_C_T | 7 | 28100673 | C | T | rs75405943  | -0.00664865 | 0.002787620 | 0.0170764 |\n",
       "| 1192 | 7_28100723_T_C | 7 | 28100723 | T | C | rs116894487 |  0.00393076 | 0.004816710 | 0.4144620 |\n",
       "| 1193 | 7_28101598_A_G | 7 | 28101598 | A | G | rs117256467 |  0.00392824 | 0.004816900 | 0.4147790 |\n",
       "| 1194 | 7_28101849_C_G | 7 | 28101849 | C | G | rs762183742 | -0.01992930 | 0.012905700 | 0.1225360 |\n",
       "| 1195 | 7_28101878_C_G | 7 | 28101878 | C | G | rs9784957   | -0.00144490 | 0.000855464 | 0.0912158 |\n",
       "| 1196 | 7_28102142_A_T | 7 | 28102142 | A | T | rs138398586 | -0.00421274 | 0.010085600 | 0.6761680 |\n",
       "\n"
      ],
      "text/plain": [
       "     INDEX          CHR POS      REF ALT SNP         BETA        SE         \n",
       "1191 7_28100673_C_T 7   28100673 C   T   rs75405943  -0.00664865 0.002787620\n",
       "1192 7_28100723_T_C 7   28100723 T   C   rs116894487  0.00393076 0.004816710\n",
       "1193 7_28101598_A_G 7   28101598 A   G   rs117256467  0.00392824 0.004816900\n",
       "1194 7_28101849_C_G 7   28101849 C   G   rs762183742 -0.01992930 0.012905700\n",
       "1195 7_28101878_C_G 7   28101878 C   G   rs9784957   -0.00144490 0.000855464\n",
       "1196 7_28102142_A_T 7   28102142 A   T   rs138398586 -0.00421274 0.010085600\n",
       "     P        \n",
       "1191 0.0170764\n",
       "1192 0.4144620\n",
       "1193 0.4147790\n",
       "1194 0.1225360\n",
       "1195 0.0912158\n",
       "1196 0.6761680"
      ]
     },
     "metadata": {},
     "output_type": "display_data"
    }
   ],
   "source": [
    "head(df.asthma)"
   ]
  },
  {
   "cell_type": "code",
   "execution_count": 299,
   "metadata": {},
   "outputs": [],
   "source": [
    "df.t2d <- read.table(\"diabetes_casesbyICD10andselfreport_controlswithoutautoiummune_030720_T2D.fastGWA.snp_stats_7_27868573_28273990.sumstats\", header= TRUE, stringsAsFactors = FALSE)\n",
    "colnames(df.t2d) <- c(\"INDEX\", \"CHR\", \"POS\", \"REF\", \"ALT\", \"SNP\", \"BETA\", \"SE\", \"P\")"
   ]
  },
  {
   "cell_type": "code",
   "execution_count": 300,
   "metadata": {},
   "outputs": [],
   "source": [
    "df.t2d <- df.t2d[start_ind:end_ind,]"
   ]
  },
  {
   "cell_type": "code",
   "execution_count": 301,
   "metadata": {},
   "outputs": [
    {
     "data": {
      "text/html": [
       "<table>\n",
       "<caption>A data.frame: 6 × 9</caption>\n",
       "<thead>\n",
       "\t<tr><th></th><th scope=col>INDEX</th><th scope=col>CHR</th><th scope=col>POS</th><th scope=col>REF</th><th scope=col>ALT</th><th scope=col>SNP</th><th scope=col>BETA</th><th scope=col>SE</th><th scope=col>P</th></tr>\n",
       "\t<tr><th></th><th scope=col>&lt;chr&gt;</th><th scope=col>&lt;int&gt;</th><th scope=col>&lt;int&gt;</th><th scope=col>&lt;chr&gt;</th><th scope=col>&lt;chr&gt;</th><th scope=col>&lt;chr&gt;</th><th scope=col>&lt;dbl&gt;</th><th scope=col>&lt;dbl&gt;</th><th scope=col>&lt;dbl&gt;</th></tr>\n",
       "</thead>\n",
       "<tbody>\n",
       "\t<tr><th scope=row>1191</th><td>7_28100673_C_T</td><td>7</td><td>28100673</td><td>C</td><td>T</td><td>rs75405943 </td><td>-0.003782890</td><td>0.001985590</td><td>0.0567579</td></tr>\n",
       "\t<tr><th scope=row>1192</th><td>7_28100723_T_C</td><td>7</td><td>28100723</td><td>T</td><td>C</td><td>rs116894487</td><td> 0.000185566</td><td>0.003428950</td><td>0.9568420</td></tr>\n",
       "\t<tr><th scope=row>1193</th><td>7_28101598_A_G</td><td>7</td><td>28101598</td><td>A</td><td>G</td><td>rs117256467</td><td> 0.000186397</td><td>0.003429080</td><td>0.9566500</td></tr>\n",
       "\t<tr><th scope=row>1194</th><td>7_28101849_C_G</td><td>7</td><td>28101849</td><td>C</td><td>G</td><td>rs762183742</td><td>-0.003536560</td><td>0.009211600</td><td>0.7010340</td></tr>\n",
       "\t<tr><th scope=row>1195</th><td>7_28101878_C_G</td><td>7</td><td>28101878</td><td>C</td><td>G</td><td>rs9784957  </td><td>-0.001526370</td><td>0.000609339</td><td>0.0122464</td></tr>\n",
       "\t<tr><th scope=row>1196</th><td>7_28102142_A_T</td><td>7</td><td>28102142</td><td>A</td><td>T</td><td>rs138398586</td><td>-0.007000790</td><td>0.007184150</td><td>0.3298200</td></tr>\n",
       "</tbody>\n",
       "</table>\n"
      ],
      "text/latex": [
       "A data.frame: 6 × 9\n",
       "\\begin{tabular}{r|lllllllll}\n",
       "  & INDEX & CHR & POS & REF & ALT & SNP & BETA & SE & P\\\\\n",
       "  & <chr> & <int> & <int> & <chr> & <chr> & <chr> & <dbl> & <dbl> & <dbl>\\\\\n",
       "\\hline\n",
       "\t1191 & 7\\_28100673\\_C\\_T & 7 & 28100673 & C & T & rs75405943  & -0.003782890 & 0.001985590 & 0.0567579\\\\\n",
       "\t1192 & 7\\_28100723\\_T\\_C & 7 & 28100723 & T & C & rs116894487 &  0.000185566 & 0.003428950 & 0.9568420\\\\\n",
       "\t1193 & 7\\_28101598\\_A\\_G & 7 & 28101598 & A & G & rs117256467 &  0.000186397 & 0.003429080 & 0.9566500\\\\\n",
       "\t1194 & 7\\_28101849\\_C\\_G & 7 & 28101849 & C & G & rs762183742 & -0.003536560 & 0.009211600 & 0.7010340\\\\\n",
       "\t1195 & 7\\_28101878\\_C\\_G & 7 & 28101878 & C & G & rs9784957   & -0.001526370 & 0.000609339 & 0.0122464\\\\\n",
       "\t1196 & 7\\_28102142\\_A\\_T & 7 & 28102142 & A & T & rs138398586 & -0.007000790 & 0.007184150 & 0.3298200\\\\\n",
       "\\end{tabular}\n"
      ],
      "text/markdown": [
       "\n",
       "A data.frame: 6 × 9\n",
       "\n",
       "| <!--/--> | INDEX &lt;chr&gt; | CHR &lt;int&gt; | POS &lt;int&gt; | REF &lt;chr&gt; | ALT &lt;chr&gt; | SNP &lt;chr&gt; | BETA &lt;dbl&gt; | SE &lt;dbl&gt; | P &lt;dbl&gt; |\n",
       "|---|---|---|---|---|---|---|---|---|---|\n",
       "| 1191 | 7_28100673_C_T | 7 | 28100673 | C | T | rs75405943  | -0.003782890 | 0.001985590 | 0.0567579 |\n",
       "| 1192 | 7_28100723_T_C | 7 | 28100723 | T | C | rs116894487 |  0.000185566 | 0.003428950 | 0.9568420 |\n",
       "| 1193 | 7_28101598_A_G | 7 | 28101598 | A | G | rs117256467 |  0.000186397 | 0.003429080 | 0.9566500 |\n",
       "| 1194 | 7_28101849_C_G | 7 | 28101849 | C | G | rs762183742 | -0.003536560 | 0.009211600 | 0.7010340 |\n",
       "| 1195 | 7_28101878_C_G | 7 | 28101878 | C | G | rs9784957   | -0.001526370 | 0.000609339 | 0.0122464 |\n",
       "| 1196 | 7_28102142_A_T | 7 | 28102142 | A | T | rs138398586 | -0.007000790 | 0.007184150 | 0.3298200 |\n",
       "\n"
      ],
      "text/plain": [
       "     INDEX          CHR POS      REF ALT SNP         BETA         SE         \n",
       "1191 7_28100673_C_T 7   28100673 C   T   rs75405943  -0.003782890 0.001985590\n",
       "1192 7_28100723_T_C 7   28100723 T   C   rs116894487  0.000185566 0.003428950\n",
       "1193 7_28101598_A_G 7   28101598 A   G   rs117256467  0.000186397 0.003429080\n",
       "1194 7_28101849_C_G 7   28101849 C   G   rs762183742 -0.003536560 0.009211600\n",
       "1195 7_28101878_C_G 7   28101878 C   G   rs9784957   -0.001526370 0.000609339\n",
       "1196 7_28102142_A_T 7   28102142 A   T   rs138398586 -0.007000790 0.007184150\n",
       "     P        \n",
       "1191 0.0567579\n",
       "1192 0.9568420\n",
       "1193 0.9566500\n",
       "1194 0.7010340\n",
       "1195 0.0122464\n",
       "1196 0.3298200"
      ]
     },
     "metadata": {},
     "output_type": "display_data"
    }
   ],
   "source": [
    "head(df.t2d)"
   ]
  },
  {
   "cell_type": "code",
   "execution_count": 302,
   "metadata": {},
   "outputs": [],
   "source": [
    "df.waist <- read.table(\"UKB_caucasians_BMIwaisthip_AsthmaAndT2D_INT-WAIST_withagesex_042020_rankNorm_WAIST.boltlmm.snp_stats_7_27868573_28273990.sumstats\", header= TRUE, stringsAsFactors = FALSE)\n",
    "colnames(df.waist) <- c(\"INDEX\", \"CHR\", \"POS\", \"REF\", \"ALT\", \"SNP\", \"BETA\", \"SE\", \"P\")"
   ]
  },
  {
   "cell_type": "code",
   "execution_count": 303,
   "metadata": {},
   "outputs": [],
   "source": [
    "df.waist <- df.waist[start_ind:end_ind,]"
   ]
  },
  {
   "cell_type": "code",
   "execution_count": 304,
   "metadata": {},
   "outputs": [
    {
     "data": {
      "text/html": [
       "<table>\n",
       "<caption>A data.frame: 6 × 9</caption>\n",
       "<thead>\n",
       "\t<tr><th></th><th scope=col>INDEX</th><th scope=col>CHR</th><th scope=col>POS</th><th scope=col>REF</th><th scope=col>ALT</th><th scope=col>SNP</th><th scope=col>BETA</th><th scope=col>SE</th><th scope=col>P</th></tr>\n",
       "\t<tr><th></th><th scope=col>&lt;chr&gt;</th><th scope=col>&lt;int&gt;</th><th scope=col>&lt;int&gt;</th><th scope=col>&lt;chr&gt;</th><th scope=col>&lt;chr&gt;</th><th scope=col>&lt;chr&gt;</th><th scope=col>&lt;dbl&gt;</th><th scope=col>&lt;dbl&gt;</th><th scope=col>&lt;dbl&gt;</th></tr>\n",
       "</thead>\n",
       "<tbody>\n",
       "\t<tr><th scope=row>1191</th><td>7_28053131_C_A</td><td>7</td><td>28053131</td><td>C</td><td>A</td><td>rs74704811 </td><td>-0.005066730</td><td>0.00327232</td><td>0.11</td></tr>\n",
       "\t<tr><th scope=row>1192</th><td>7_28053278_T_C</td><td>7</td><td>28053278</td><td>T</td><td>C</td><td>rs57516014 </td><td> 0.028808800</td><td>0.02649690</td><td>0.32</td></tr>\n",
       "\t<tr><th scope=row>1193</th><td>7_28053807_T_C</td><td>7</td><td>28053807</td><td>T</td><td>C</td><td>rs78760393 </td><td>-0.000420677</td><td>0.00385534</td><td>0.78</td></tr>\n",
       "\t<tr><th scope=row>1194</th><td>7_28054065_C_T</td><td>7</td><td>28054065</td><td>C</td><td>T</td><td>rs1963306  </td><td> 0.001121770</td><td>0.00104353</td><td>0.23</td></tr>\n",
       "\t<tr><th scope=row>1195</th><td>7_28054106_T_C</td><td>7</td><td>28054106</td><td>T</td><td>C</td><td>rs115838626</td><td>-0.005062790</td><td>0.00327228</td><td>0.11</td></tr>\n",
       "\t<tr><th scope=row>1196</th><td>7_28054123_G_A</td><td>7</td><td>28054123</td><td>G</td><td>A</td><td>rs116263421</td><td>-0.004961030</td><td>0.00327869</td><td>0.13</td></tr>\n",
       "</tbody>\n",
       "</table>\n"
      ],
      "text/latex": [
       "A data.frame: 6 × 9\n",
       "\\begin{tabular}{r|lllllllll}\n",
       "  & INDEX & CHR & POS & REF & ALT & SNP & BETA & SE & P\\\\\n",
       "  & <chr> & <int> & <int> & <chr> & <chr> & <chr> & <dbl> & <dbl> & <dbl>\\\\\n",
       "\\hline\n",
       "\t1191 & 7\\_28053131\\_C\\_A & 7 & 28053131 & C & A & rs74704811  & -0.005066730 & 0.00327232 & 0.11\\\\\n",
       "\t1192 & 7\\_28053278\\_T\\_C & 7 & 28053278 & T & C & rs57516014  &  0.028808800 & 0.02649690 & 0.32\\\\\n",
       "\t1193 & 7\\_28053807\\_T\\_C & 7 & 28053807 & T & C & rs78760393  & -0.000420677 & 0.00385534 & 0.78\\\\\n",
       "\t1194 & 7\\_28054065\\_C\\_T & 7 & 28054065 & C & T & rs1963306   &  0.001121770 & 0.00104353 & 0.23\\\\\n",
       "\t1195 & 7\\_28054106\\_T\\_C & 7 & 28054106 & T & C & rs115838626 & -0.005062790 & 0.00327228 & 0.11\\\\\n",
       "\t1196 & 7\\_28054123\\_G\\_A & 7 & 28054123 & G & A & rs116263421 & -0.004961030 & 0.00327869 & 0.13\\\\\n",
       "\\end{tabular}\n"
      ],
      "text/markdown": [
       "\n",
       "A data.frame: 6 × 9\n",
       "\n",
       "| <!--/--> | INDEX &lt;chr&gt; | CHR &lt;int&gt; | POS &lt;int&gt; | REF &lt;chr&gt; | ALT &lt;chr&gt; | SNP &lt;chr&gt; | BETA &lt;dbl&gt; | SE &lt;dbl&gt; | P &lt;dbl&gt; |\n",
       "|---|---|---|---|---|---|---|---|---|---|\n",
       "| 1191 | 7_28053131_C_A | 7 | 28053131 | C | A | rs74704811  | -0.005066730 | 0.00327232 | 0.11 |\n",
       "| 1192 | 7_28053278_T_C | 7 | 28053278 | T | C | rs57516014  |  0.028808800 | 0.02649690 | 0.32 |\n",
       "| 1193 | 7_28053807_T_C | 7 | 28053807 | T | C | rs78760393  | -0.000420677 | 0.00385534 | 0.78 |\n",
       "| 1194 | 7_28054065_C_T | 7 | 28054065 | C | T | rs1963306   |  0.001121770 | 0.00104353 | 0.23 |\n",
       "| 1195 | 7_28054106_T_C | 7 | 28054106 | T | C | rs115838626 | -0.005062790 | 0.00327228 | 0.11 |\n",
       "| 1196 | 7_28054123_G_A | 7 | 28054123 | G | A | rs116263421 | -0.004961030 | 0.00327869 | 0.13 |\n",
       "\n"
      ],
      "text/plain": [
       "     INDEX          CHR POS      REF ALT SNP         BETA         SE        \n",
       "1191 7_28053131_C_A 7   28053131 C   A   rs74704811  -0.005066730 0.00327232\n",
       "1192 7_28053278_T_C 7   28053278 T   C   rs57516014   0.028808800 0.02649690\n",
       "1193 7_28053807_T_C 7   28053807 T   C   rs78760393  -0.000420677 0.00385534\n",
       "1194 7_28054065_C_T 7   28054065 C   T   rs1963306    0.001121770 0.00104353\n",
       "1195 7_28054106_T_C 7   28054106 T   C   rs115838626 -0.005062790 0.00327228\n",
       "1196 7_28054123_G_A 7   28054123 G   A   rs116263421 -0.004961030 0.00327869\n",
       "     P   \n",
       "1191 0.11\n",
       "1192 0.32\n",
       "1193 0.78\n",
       "1194 0.23\n",
       "1195 0.11\n",
       "1196 0.13"
      ]
     },
     "metadata": {},
     "output_type": "display_data"
    }
   ],
   "source": [
    "head(df.waist)"
   ]
  },
  {
   "cell_type": "code",
   "execution_count": 305,
   "metadata": {},
   "outputs": [],
   "source": [
    "df.all_pheno_beta = cbind(df.asthma[\"BETA\"], df.t2d[\"BETA\"], df.waist[\"BETA\"])\n",
    "colnames(df.all_pheno_beta) <- c(\"asthma\", \"t2d\", \"waist\")\n",
    "rownames(df.all_pheno_beta) <- df.asthma$INDEX\n",
    "df.all_pheno_beta <- data.matrix(df.all_pheno_beta, rownames.force = NA)"
   ]
  },
  {
   "cell_type": "code",
   "execution_count": 306,
   "metadata": {},
   "outputs": [
    {
     "data": {
      "text/html": [
       "<table>\n",
       "<caption>A matrix: 6 × 3 of type dbl</caption>\n",
       "<thead>\n",
       "\t<tr><th></th><th scope=col>asthma</th><th scope=col>t2d</th><th scope=col>waist</th></tr>\n",
       "</thead>\n",
       "<tbody>\n",
       "\t<tr><th scope=row>7_28100673_C_T</th><td>-0.00664865</td><td>-0.003782890</td><td>-0.005066730</td></tr>\n",
       "\t<tr><th scope=row>7_28100723_T_C</th><td> 0.00393076</td><td> 0.000185566</td><td> 0.028808800</td></tr>\n",
       "\t<tr><th scope=row>7_28101598_A_G</th><td> 0.00392824</td><td> 0.000186397</td><td>-0.000420677</td></tr>\n",
       "\t<tr><th scope=row>7_28101849_C_G</th><td>-0.01992930</td><td>-0.003536560</td><td> 0.001121770</td></tr>\n",
       "\t<tr><th scope=row>7_28101878_C_G</th><td>-0.00144490</td><td>-0.001526370</td><td>-0.005062790</td></tr>\n",
       "\t<tr><th scope=row>7_28102142_A_T</th><td>-0.00421274</td><td>-0.007000790</td><td>-0.004961030</td></tr>\n",
       "</tbody>\n",
       "</table>\n"
      ],
      "text/latex": [
       "A matrix: 6 × 3 of type dbl\n",
       "\\begin{tabular}{r|lll}\n",
       "  & asthma & t2d & waist\\\\\n",
       "\\hline\n",
       "\t7\\_28100673\\_C\\_T & -0.00664865 & -0.003782890 & -0.005066730\\\\\n",
       "\t7\\_28100723\\_T\\_C &  0.00393076 &  0.000185566 &  0.028808800\\\\\n",
       "\t7\\_28101598\\_A\\_G &  0.00392824 &  0.000186397 & -0.000420677\\\\\n",
       "\t7\\_28101849\\_C\\_G & -0.01992930 & -0.003536560 &  0.001121770\\\\\n",
       "\t7\\_28101878\\_C\\_G & -0.00144490 & -0.001526370 & -0.005062790\\\\\n",
       "\t7\\_28102142\\_A\\_T & -0.00421274 & -0.007000790 & -0.004961030\\\\\n",
       "\\end{tabular}\n"
      ],
      "text/markdown": [
       "\n",
       "A matrix: 6 × 3 of type dbl\n",
       "\n",
       "| <!--/--> | asthma | t2d | waist |\n",
       "|---|---|---|---|\n",
       "| 7_28100673_C_T | -0.00664865 | -0.003782890 | -0.005066730 |\n",
       "| 7_28100723_T_C |  0.00393076 |  0.000185566 |  0.028808800 |\n",
       "| 7_28101598_A_G |  0.00392824 |  0.000186397 | -0.000420677 |\n",
       "| 7_28101849_C_G | -0.01992930 | -0.003536560 |  0.001121770 |\n",
       "| 7_28101878_C_G | -0.00144490 | -0.001526370 | -0.005062790 |\n",
       "| 7_28102142_A_T | -0.00421274 | -0.007000790 | -0.004961030 |\n",
       "\n"
      ],
      "text/plain": [
       "               asthma      t2d          waist       \n",
       "7_28100673_C_T -0.00664865 -0.003782890 -0.005066730\n",
       "7_28100723_T_C  0.00393076  0.000185566  0.028808800\n",
       "7_28101598_A_G  0.00392824  0.000186397 -0.000420677\n",
       "7_28101849_C_G -0.01992930 -0.003536560  0.001121770\n",
       "7_28101878_C_G -0.00144490 -0.001526370 -0.005062790\n",
       "7_28102142_A_T -0.00421274 -0.007000790 -0.004961030"
      ]
     },
     "metadata": {},
     "output_type": "display_data"
    }
   ],
   "source": [
    "head(df.all_pheno_beta)"
   ]
  },
  {
   "cell_type": "code",
   "execution_count": 307,
   "metadata": {},
   "outputs": [],
   "source": [
    "df.all_pheno_se = cbind(df.asthma[\"SE\"], df.t2d[\"SE\"], df.waist[\"SE\"])\n",
    "colnames(df.all_pheno_se) <- c(\"asthma\", \"t2d\", \"waist\")\n",
    "rownames(df.all_pheno_se) <- df.asthma$INDEX\n",
    "df.all_pheno_se <- data.matrix(df.all_pheno_se, rownames.force = NA)"
   ]
  },
  {
   "cell_type": "code",
   "execution_count": 308,
   "metadata": {},
   "outputs": [
    {
     "data": {
      "text/html": [
       "<table>\n",
       "<caption>A matrix: 6 × 3 of type dbl</caption>\n",
       "<thead>\n",
       "\t<tr><th></th><th scope=col>asthma</th><th scope=col>t2d</th><th scope=col>waist</th></tr>\n",
       "</thead>\n",
       "<tbody>\n",
       "\t<tr><th scope=row>7_28100673_C_T</th><td>0.002787620</td><td>0.001985590</td><td>0.00327232</td></tr>\n",
       "\t<tr><th scope=row>7_28100723_T_C</th><td>0.004816710</td><td>0.003428950</td><td>0.02649690</td></tr>\n",
       "\t<tr><th scope=row>7_28101598_A_G</th><td>0.004816900</td><td>0.003429080</td><td>0.00385534</td></tr>\n",
       "\t<tr><th scope=row>7_28101849_C_G</th><td>0.012905700</td><td>0.009211600</td><td>0.00104353</td></tr>\n",
       "\t<tr><th scope=row>7_28101878_C_G</th><td>0.000855464</td><td>0.000609339</td><td>0.00327228</td></tr>\n",
       "\t<tr><th scope=row>7_28102142_A_T</th><td>0.010085600</td><td>0.007184150</td><td>0.00327869</td></tr>\n",
       "</tbody>\n",
       "</table>\n"
      ],
      "text/latex": [
       "A matrix: 6 × 3 of type dbl\n",
       "\\begin{tabular}{r|lll}\n",
       "  & asthma & t2d & waist\\\\\n",
       "\\hline\n",
       "\t7\\_28100673\\_C\\_T & 0.002787620 & 0.001985590 & 0.00327232\\\\\n",
       "\t7\\_28100723\\_T\\_C & 0.004816710 & 0.003428950 & 0.02649690\\\\\n",
       "\t7\\_28101598\\_A\\_G & 0.004816900 & 0.003429080 & 0.00385534\\\\\n",
       "\t7\\_28101849\\_C\\_G & 0.012905700 & 0.009211600 & 0.00104353\\\\\n",
       "\t7\\_28101878\\_C\\_G & 0.000855464 & 0.000609339 & 0.00327228\\\\\n",
       "\t7\\_28102142\\_A\\_T & 0.010085600 & 0.007184150 & 0.00327869\\\\\n",
       "\\end{tabular}\n"
      ],
      "text/markdown": [
       "\n",
       "A matrix: 6 × 3 of type dbl\n",
       "\n",
       "| <!--/--> | asthma | t2d | waist |\n",
       "|---|---|---|---|\n",
       "| 7_28100673_C_T | 0.002787620 | 0.001985590 | 0.00327232 |\n",
       "| 7_28100723_T_C | 0.004816710 | 0.003428950 | 0.02649690 |\n",
       "| 7_28101598_A_G | 0.004816900 | 0.003429080 | 0.00385534 |\n",
       "| 7_28101849_C_G | 0.012905700 | 0.009211600 | 0.00104353 |\n",
       "| 7_28101878_C_G | 0.000855464 | 0.000609339 | 0.00327228 |\n",
       "| 7_28102142_A_T | 0.010085600 | 0.007184150 | 0.00327869 |\n",
       "\n"
      ],
      "text/plain": [
       "               asthma      t2d         waist     \n",
       "7_28100673_C_T 0.002787620 0.001985590 0.00327232\n",
       "7_28100723_T_C 0.004816710 0.003428950 0.02649690\n",
       "7_28101598_A_G 0.004816900 0.003429080 0.00385534\n",
       "7_28101849_C_G 0.012905700 0.009211600 0.00104353\n",
       "7_28101878_C_G 0.000855464 0.000609339 0.00327228\n",
       "7_28102142_A_T 0.010085600 0.007184150 0.00327869"
      ]
     },
     "metadata": {},
     "output_type": "display_data"
    }
   ],
   "source": [
    "head(df.all_pheno_se)"
   ]
  },
  {
   "cell_type": "markdown",
   "metadata": {},
   "source": [
    "### RESULTS"
   ]
  },
  {
   "cell_type": "markdown",
   "metadata": {},
   "source": [
    "### With right side of the region from [1191:2067]"
   ]
  },
  {
   "cell_type": "code",
   "execution_count": 243,
   "metadata": {},
   "outputs": [
    {
     "data": {
      "text/html": [
       "877"
      ],
      "text/latex": [
       "877"
      ],
      "text/markdown": [
       "877"
      ],
      "text/plain": [
       "[1] 877"
      ]
     },
     "metadata": {},
     "output_type": "display_data"
    }
   ],
   "source": [
    "length(df.asthma$BETA)"
   ]
  },
  {
   "cell_type": "code",
   "execution_count": 244,
   "metadata": {},
   "outputs": [
    {
     "data": {
      "text/plain": [
       "$results\n",
       "  iteration traits posterior_prob regional_prob candidate_snp\n",
       "1         1   None             NA        0.0087            NA\n",
       "2         2   None             NA        1.0000            NA\n",
       "  posterior_explained_by_snp dropped_trait\n",
       "1                         NA         waist\n",
       "2                         NA           t2d\n",
       "\n",
       "attr(,\"class\")\n",
       "[1] \"hyprcoloc\""
      ]
     },
     "metadata": {},
     "output_type": "display_data"
    }
   ],
   "source": [
    "hyprcoloc(df.all_pheno_beta, df.all_pheno_se, trait.names=colnames(df.all_pheno_beta), snp.id=rownames(df.all_pheno_beta))"
   ]
  },
  {
   "cell_type": "markdown",
   "metadata": {},
   "source": [
    "### With entire region from [1:2067]"
   ]
  },
  {
   "cell_type": "code",
   "execution_count": 224,
   "metadata": {},
   "outputs": [
    {
     "data": {
      "text/html": [
       "2067"
      ],
      "text/latex": [
       "2067"
      ],
      "text/markdown": [
       "2067"
      ],
      "text/plain": [
       "[1] 2067"
      ]
     },
     "metadata": {},
     "output_type": "display_data"
    }
   ],
   "source": [
    "length(df.asthma$BETA)"
   ]
  },
  {
   "cell_type": "code",
   "execution_count": 225,
   "metadata": {},
   "outputs": [
    {
     "data": {
      "text/plain": [
       "$results\n",
       "  iteration traits posterior_prob regional_prob candidate_snp\n",
       "1         1   None             NA        0.0087            NA\n",
       "2         2   None             NA        1.0000            NA\n",
       "  posterior_explained_by_snp dropped_trait\n",
       "1                         NA         waist\n",
       "2                         NA           t2d\n",
       "\n",
       "attr(,\"class\")\n",
       "[1] \"hyprcoloc\""
      ]
     },
     "metadata": {},
     "output_type": "display_data"
    }
   ],
   "source": [
    "hyprcoloc(df.all_pheno_beta, df.all_pheno_se, trait.names=colnames(df.all_pheno_beta), snp.id=rownames(df.all_pheno_beta))"
   ]
  },
  {
   "cell_type": "markdown",
   "metadata": {},
   "source": [
    "### Testing with only 2 phenos"
   ]
  },
  {
   "cell_type": "markdown",
   "metadata": {},
   "source": [
    "### Asthma and T2D"
   ]
  },
  {
   "cell_type": "code",
   "execution_count": 310,
   "metadata": {},
   "outputs": [
    {
     "data": {
      "text/html": [
       "877"
      ],
      "text/latex": [
       "877"
      ],
      "text/markdown": [
       "877"
      ],
      "text/plain": [
       "[1] 877"
      ]
     },
     "metadata": {},
     "output_type": "display_data"
    }
   ],
   "source": [
    "length(df.asthma$BETA)"
   ]
  },
  {
   "cell_type": "code",
   "execution_count": 311,
   "metadata": {},
   "outputs": [],
   "source": [
    "df.two_pheno_beta = cbind(df.asthma[\"BETA\"], df.t2d[\"BETA\"])\n",
    "colnames(df.two_pheno_beta) <- c(\"asthma\", \"t2d\")\n",
    "rownames(df.two_pheno_beta) <- df.asthma$INDEX\n",
    "df.two_pheno_beta <- data.matrix(df.two_pheno_beta, rownames.force = NA)"
   ]
  },
  {
   "cell_type": "code",
   "execution_count": 312,
   "metadata": {},
   "outputs": [],
   "source": [
    "df.two_pheno_se = cbind(df.asthma[\"SE\"], df.t2d[\"SE\"])\n",
    "colnames(df.two_pheno_se) <- c(\"asthma\", \"t2d\")\n",
    "rownames(df.two_pheno_se) <- df.asthma$INDEX\n",
    "df.two_pheno_se <- data.matrix(df.two_pheno_se, rownames.force = NA)"
   ]
  },
  {
   "cell_type": "code",
   "execution_count": 313,
   "metadata": {},
   "outputs": [
    {
     "data": {
      "text/plain": [
       "$results\n",
       "  iteration traits posterior_prob regional_prob candidate_snp\n",
       "1         1   None             NA             1            NA\n",
       "  posterior_explained_by_snp dropped_trait\n",
       "1                         NA           t2d\n",
       "\n",
       "attr(,\"class\")\n",
       "[1] \"hyprcoloc\""
      ]
     },
     "metadata": {},
     "output_type": "display_data"
    }
   ],
   "source": [
    "hyprcoloc(df.two_pheno_beta, df.two_pheno_se, trait.names=colnames(df.two_pheno_beta), snp.id=rownames(df.two_pheno_beta))"
   ]
  },
  {
   "cell_type": "markdown",
   "metadata": {},
   "source": [
    "### Asthma and Waist"
   ]
  },
  {
   "cell_type": "code",
   "execution_count": 314,
   "metadata": {},
   "outputs": [],
   "source": [
    "df.two_pheno_beta = cbind(df.asthma[\"BETA\"], df.waist[\"BETA\"])\n",
    "colnames(df.two_pheno_beta) <- c(\"asthma\", \"waist\")\n",
    "rownames(df.two_pheno_beta) <- df.asthma$INDEX\n",
    "df.two_pheno_beta <- data.matrix(df.two_pheno_beta, rownames.force = NA)"
   ]
  },
  {
   "cell_type": "code",
   "execution_count": 315,
   "metadata": {},
   "outputs": [],
   "source": [
    "df.two_pheno_se = cbind(df.asthma[\"SE\"], df.waist[\"SE\"])\n",
    "colnames(df.two_pheno_se) <- c(\"asthma\", \"waist\")\n",
    "rownames(df.two_pheno_se) <- df.asthma$INDEX\n",
    "df.two_pheno_se <- data.matrix(df.two_pheno_se, rownames.force = NA)"
   ]
  },
  {
   "cell_type": "code",
   "execution_count": 316,
   "metadata": {},
   "outputs": [
    {
     "data": {
      "text/plain": [
       "$results\n",
       "  iteration traits posterior_prob regional_prob candidate_snp\n",
       "1         1   None             NA        0.0087            NA\n",
       "  posterior_explained_by_snp dropped_trait\n",
       "1                         NA         waist\n",
       "\n",
       "attr(,\"class\")\n",
       "[1] \"hyprcoloc\""
      ]
     },
     "metadata": {},
     "output_type": "display_data"
    }
   ],
   "source": [
    "hyprcoloc(df.two_pheno_beta, df.two_pheno_se, trait.names=colnames(df.two_pheno_beta), snp.id=rownames(df.two_pheno_beta))"
   ]
  },
  {
   "cell_type": "markdown",
   "metadata": {},
   "source": [
    "### T2D and Waist"
   ]
  },
  {
   "cell_type": "code",
   "execution_count": 317,
   "metadata": {},
   "outputs": [],
   "source": [
    "df.two_pheno_beta = cbind(df.t2d[\"BETA\"], df.waist[\"BETA\"])\n",
    "colnames(df.two_pheno_beta) <- c(\"t2d\", \"waist\")\n",
    "rownames(df.two_pheno_beta) <- df.asthma$INDEX\n",
    "df.two_pheno_beta <- data.matrix(df.two_pheno_beta, rownames.force = NA)"
   ]
  },
  {
   "cell_type": "code",
   "execution_count": 318,
   "metadata": {},
   "outputs": [],
   "source": [
    "df.two_pheno_se = cbind(df.t2d[\"SE\"], df.waist[\"SE\"])\n",
    "colnames(df.two_pheno_se) <- c(\"t2d\", \"waist\")\n",
    "rownames(df.two_pheno_se) <- df.asthma$INDEX\n",
    "df.two_pheno_se <- data.matrix(df.two_pheno_se, rownames.force = NA)"
   ]
  },
  {
   "cell_type": "code",
   "execution_count": 319,
   "metadata": {},
   "outputs": [
    {
     "data": {
      "text/plain": [
       "$results\n",
       "  iteration traits posterior_prob regional_prob candidate_snp\n",
       "1         1   None             NA         6e-04            NA\n",
       "  posterior_explained_by_snp dropped_trait\n",
       "1                         NA         waist\n",
       "\n",
       "attr(,\"class\")\n",
       "[1] \"hyprcoloc\""
      ]
     },
     "metadata": {},
     "output_type": "display_data"
    }
   ],
   "source": [
    "hyprcoloc(df.two_pheno_beta, df.two_pheno_se, trait.names=colnames(df.two_pheno_beta), snp.id=rownames(df.two_pheno_beta))"
   ]
  },
  {
   "cell_type": "code",
   "execution_count": null,
   "metadata": {},
   "outputs": [],
   "source": []
  },
  {
   "cell_type": "code",
   "execution_count": null,
   "metadata": {},
   "outputs": [],
   "source": []
  }
 ],
 "metadata": {
  "kernelspec": {
   "display_name": "R",
   "language": "R",
   "name": "ir"
  },
  "language_info": {
   "codemirror_mode": "r",
   "file_extension": ".r",
   "mimetype": "text/x-r-source",
   "name": "R",
   "pygments_lexer": "r",
   "version": "4.0.2"
  }
 },
 "nbformat": 4,
 "nbformat_minor": 4
}
